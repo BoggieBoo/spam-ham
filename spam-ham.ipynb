{
 "cells": [
  {
   "cell_type": "code",
   "execution_count": 1,
   "id": "ed12a687-21f9-43db-9ac1-cd85c45a90b8",
   "metadata": {},
   "outputs": [],
   "source": [
    "\"\"\"\n",
    "import python packages\n",
    "\"\"\"\n",
    "\n",
    "from cubyc import Run\n",
    "import numpy as np\n",
    "import pandas as pd\n",
    "import re\n",
    "import os\n",
    "import ast\n",
    "from dotenv import load_dotenv\n",
    "from sklearn.preprocessing import OneHotEncoder\n",
    "from sklearn.linear_model import LogisticRegression\n",
    "from sklearn.metrics import accuracy_score, roc_curve, confusion_matrix\n",
    "from sklearn.model_selection import train_test_split\n",
    "from sklearn.model_selection import GridSearchCV\n",
    "from sklearn.decomposition import PCA"
   ]
  },
  {
   "cell_type": "code",
   "execution_count": 2,
   "id": "735edae8-e12b-4456-b608-0946394a99f1",
   "metadata": {},
   "outputs": [],
   "source": [
    "\"\"\"\n",
    "get data\n",
    "\"\"\"\n",
    "\n",
    "load_dotenv()\n",
    "words = ast.literal_eval(os.getenv('WORDS')) #import words from environment file\n",
    "\n",
    "original_training_data = pd.read_csv('train.csv') #import train csv provided in data 100\n",
    "train, val = train_test_split(original_training_data, test_size = 0.1, random_state = 100)\n",
    "train.reset_index(inplace=True, drop=True)\n",
    "val.reset_index(inplace=True, drop=True)"
   ]
  },
  {
   "cell_type": "code",
   "execution_count": 3,
   "id": "d1c02b93-1dfb-4fff-a61f-0f2fec16f8c1",
   "metadata": {},
   "outputs": [],
   "source": [
    "\"\"\"\n",
    "feature functions\n",
    "\n",
    "args:\n",
    "    1. df - spam/ham dataframe\n",
    "    2. additional feature specific arguments (e.g. words)\n",
    "    \n",
    "returns:\n",
    "    1. pandas series/df of features\n",
    "\"\"\"\n",
    "\n",
    "\n",
    "def total_words(df): #number of each word in words in the email\n",
    "    return pd.DataFrame(np.array([df['email'].str.count(word) for word in words]).T)\n",
    "\n",
    "\n",
    "def length(df): #number of total words in the email\n",
    "    return pd.Series(df['email'].apply(lambda x: len(re.split(r'\\s|<', x))), name='length') \n",
    "\n",
    "features = [total_words, length]"
   ]
  },
  {
   "cell_type": "code",
   "execution_count": 4,
   "id": "15c522b4-7394-4546-8419-2f3a040aba06",
   "metadata": {},
   "outputs": [
    {
     "name": "stderr",
     "output_type": "stream",
     "text": [
      "/Users/bradenleung/Documents/cubyc-projects/spam-ham/.spam-env/lib/python3.8/site-packages/sklearn/linear_model/_logistic.py:460: ConvergenceWarning: lbfgs failed to converge (status=1):\n",
      "STOP: TOTAL NO. of ITERATIONS REACHED LIMIT.\n",
      "\n",
      "Increase the number of iterations (max_iter) or scale the data as shown in:\n",
      "    https://scikit-learn.org/stable/modules/preprocessing.html\n",
      "Please also refer to the documentation for alternative solver options:\n",
      "    https://scikit-learn.org/stable/modules/linear_model.html#logistic-regression\n",
      "  n_iter_i = _check_optimize_result(\n"
     ]
    },
    {
     "data": {
      "text/html": [
       "<style>#sk-container-id-1 {color: black;}#sk-container-id-1 pre{padding: 0;}#sk-container-id-1 div.sk-toggleable {background-color: white;}#sk-container-id-1 label.sk-toggleable__label {cursor: pointer;display: block;width: 100%;margin-bottom: 0;padding: 0.3em;box-sizing: border-box;text-align: center;}#sk-container-id-1 label.sk-toggleable__label-arrow:before {content: \"▸\";float: left;margin-right: 0.25em;color: #696969;}#sk-container-id-1 label.sk-toggleable__label-arrow:hover:before {color: black;}#sk-container-id-1 div.sk-estimator:hover label.sk-toggleable__label-arrow:before {color: black;}#sk-container-id-1 div.sk-toggleable__content {max-height: 0;max-width: 0;overflow: hidden;text-align: left;background-color: #f0f8ff;}#sk-container-id-1 div.sk-toggleable__content pre {margin: 0.2em;color: black;border-radius: 0.25em;background-color: #f0f8ff;}#sk-container-id-1 input.sk-toggleable__control:checked~div.sk-toggleable__content {max-height: 200px;max-width: 100%;overflow: auto;}#sk-container-id-1 input.sk-toggleable__control:checked~label.sk-toggleable__label-arrow:before {content: \"▾\";}#sk-container-id-1 div.sk-estimator input.sk-toggleable__control:checked~label.sk-toggleable__label {background-color: #d4ebff;}#sk-container-id-1 div.sk-label input.sk-toggleable__control:checked~label.sk-toggleable__label {background-color: #d4ebff;}#sk-container-id-1 input.sk-hidden--visually {border: 0;clip: rect(1px 1px 1px 1px);clip: rect(1px, 1px, 1px, 1px);height: 1px;margin: -1px;overflow: hidden;padding: 0;position: absolute;width: 1px;}#sk-container-id-1 div.sk-estimator {font-family: monospace;background-color: #f0f8ff;border: 1px dotted black;border-radius: 0.25em;box-sizing: border-box;margin-bottom: 0.5em;}#sk-container-id-1 div.sk-estimator:hover {background-color: #d4ebff;}#sk-container-id-1 div.sk-parallel-item::after {content: \"\";width: 100%;border-bottom: 1px solid gray;flex-grow: 1;}#sk-container-id-1 div.sk-label:hover label.sk-toggleable__label {background-color: #d4ebff;}#sk-container-id-1 div.sk-serial::before {content: \"\";position: absolute;border-left: 1px solid gray;box-sizing: border-box;top: 0;bottom: 0;left: 50%;z-index: 0;}#sk-container-id-1 div.sk-serial {display: flex;flex-direction: column;align-items: center;background-color: white;padding-right: 0.2em;padding-left: 0.2em;position: relative;}#sk-container-id-1 div.sk-item {position: relative;z-index: 1;}#sk-container-id-1 div.sk-parallel {display: flex;align-items: stretch;justify-content: center;background-color: white;position: relative;}#sk-container-id-1 div.sk-item::before, #sk-container-id-1 div.sk-parallel-item::before {content: \"\";position: absolute;border-left: 1px solid gray;box-sizing: border-box;top: 0;bottom: 0;left: 50%;z-index: -1;}#sk-container-id-1 div.sk-parallel-item {display: flex;flex-direction: column;z-index: 1;position: relative;background-color: white;}#sk-container-id-1 div.sk-parallel-item:first-child::after {align-self: flex-end;width: 50%;}#sk-container-id-1 div.sk-parallel-item:last-child::after {align-self: flex-start;width: 50%;}#sk-container-id-1 div.sk-parallel-item:only-child::after {width: 0;}#sk-container-id-1 div.sk-dashed-wrapped {border: 1px dashed gray;margin: 0 0.4em 0.5em 0.4em;box-sizing: border-box;padding-bottom: 0.4em;background-color: white;}#sk-container-id-1 div.sk-label label {font-family: monospace;font-weight: bold;display: inline-block;line-height: 1.2em;}#sk-container-id-1 div.sk-label-container {text-align: center;}#sk-container-id-1 div.sk-container {/* jupyter's `normalize.less` sets `[hidden] { display: none; }` but bootstrap.min.css set `[hidden] { display: none !important; }` so we also need the `!important` here to be able to override the default hidden behavior on the sphinx rendered scikit-learn.org. See: https://github.com/scikit-learn/scikit-learn/issues/21755 */display: inline-block !important;position: relative;}#sk-container-id-1 div.sk-text-repr-fallback {display: none;}</style><div id=\"sk-container-id-1\" class=\"sk-top-container\"><div class=\"sk-text-repr-fallback\"><pre>LogisticRegression()</pre><b>In a Jupyter environment, please rerun this cell to show the HTML representation or trust the notebook. <br />On GitHub, the HTML representation is unable to render, please try loading this page with nbviewer.org.</b></div><div class=\"sk-container\" hidden><div class=\"sk-item\"><div class=\"sk-estimator sk-toggleable\"><input class=\"sk-toggleable__control sk-hidden--visually\" id=\"sk-estimator-id-1\" type=\"checkbox\" checked><label for=\"sk-estimator-id-1\" class=\"sk-toggleable__label sk-toggleable__label-arrow\">LogisticRegression</label><div class=\"sk-toggleable__content\"><pre>LogisticRegression()</pre></div></div></div></div></div>"
      ],
      "text/plain": [
       "LogisticRegression()"
      ]
     },
     "execution_count": 4,
     "metadata": {},
     "output_type": "execute_result"
    }
   ],
   "source": [
    "\"\"\"\n",
    "model creation\n",
    "\"\"\"\n",
    "\n",
    "def model_data(df):\n",
    "    for feature in features:\n",
    "        df = df.merge(feature(df), left_index=True, right_index=True)\n",
    "    df.columns = df.columns.astype(str)\n",
    "    return df.drop(columns=['id','subject','email','spam']), df['spam']\n",
    "\n",
    "X_train, Y_train = model_data(train)\n",
    "X_val, Y_val = model_data(val)\n",
    "\n",
    "lr = LogisticRegression(fit_intercept=True, penalty='l2')\n",
    "lr.fit(X_train, Y_train)"
   ]
  },
  {
   "cell_type": "code",
   "execution_count": 5,
   "id": "0fd0c2aa-5c6c-4f14-a3c5-d4926f3988c3",
   "metadata": {},
   "outputs": [
    {
     "name": "stdout",
     "output_type": "stream",
     "text": [
      "0.7982164248635698\n",
      "0.8395209580838323\n"
     ]
    }
   ],
   "source": [
    "\"\"\"\n",
    "model evaluation\n",
    "\"\"\"\n",
    "\n",
    "train_predictions = lr.predict(X_train)\n",
    "train_accuracy = np.mean(train_predictions == train[\"spam\"])\n",
    "print(train_accuracy)\n",
    "\n",
    "val_predictions = lr.predict(X_val)\n",
    "val_accuracy = np.mean(val_predictions == val[\"spam\"])\n",
    "print(val_accuracy)"
   ]
  },
  {
   "cell_type": "code",
   "execution_count": 6,
   "id": "73186101-0809-4d2e-9826-95c15dc54e89",
   "metadata": {},
   "outputs": [
    {
     "data": {
      "text/html": [
       "<pre style=\"white-space:pre;overflow-x:auto;line-height:normal;font-family:Menlo,'DejaVu Sans Mono',consolas,'Courier New',monospace\"><span style=\"color: #7fbfbf; text-decoration-color: #7fbfbf\">[08:52:37] </span><span style=\"color: #000080; text-decoration-color: #000080\">INFO    </span> Run <span style=\"color: #008000; text-decoration-color: #008000\">39b8d1c977e4ca5912e813e283cb6cf92b3320d6</span> committed to                            <a href=\"file:///Users/bradenleung/Documents/cubyc-projects/spam-ham/.spam-env/lib/python3.8/site-packages/cubyc/run.py\" target=\"_blank\"><span style=\"color: #7f7f7f; text-decoration-color: #7f7f7f\">run.py</span></a><span style=\"color: #7f7f7f; text-decoration-color: #7f7f7f\">:</span><a href=\"file:///Users/bradenleung/Documents/cubyc-projects/spam-ham/.spam-env/lib/python3.8/site-packages/cubyc/run.py#240\" target=\"_blank\"><span style=\"color: #7f7f7f; text-decoration-color: #7f7f7f\">240</span></a>\n",
       "<span style=\"color: #7fbfbf; text-decoration-color: #7fbfbf\">           </span>         <span style=\"color: #0000ff; text-decoration-color: #0000ff; text-decoration: underline\">https://github.com/BoggieBoo/spam-ham/tree/39b8d1c977e4ca5912e813e283cb6cf92b3320d6</span>  <span style=\"color: #7f7f7f; text-decoration-color: #7f7f7f\">          </span>\n",
       "</pre>\n"
      ],
      "text/plain": [
       "\u001b[2;36m[08:52:37]\u001b[0m\u001b[2;36m \u001b[0m\u001b[34mINFO    \u001b[0m Run \u001b[32m39b8d1c977e4ca5912e813e283cb6cf92b3320d6\u001b[0m committed to                            \u001b]8;id=232626;file:///Users/bradenleung/Documents/cubyc-projects/spam-ham/.spam-env/lib/python3.8/site-packages/cubyc/run.py\u001b\\\u001b[2mrun.py\u001b[0m\u001b]8;;\u001b\\\u001b[2m:\u001b[0m\u001b]8;id=96341;file:///Users/bradenleung/Documents/cubyc-projects/spam-ham/.spam-env/lib/python3.8/site-packages/cubyc/run.py#240\u001b\\\u001b[2m240\u001b[0m\u001b]8;;\u001b\\\n",
       "\u001b[2;36m           \u001b[0m         \u001b[4;94mhttps://github.com/BoggieBoo/spam-ham/tree/39b8d1c977e4ca5912e813e283cb6cf92b3320d6\u001b[0m  \u001b[2m          \u001b[0m\n"
      ]
     },
     "metadata": {},
     "output_type": "display_data"
    }
   ],
   "source": [
    "\"\"\"\n",
    "export to git (using cubyc)\n",
    "\"\"\"\n",
    "\n",
    "run = Run(remote=\"https://github.com/BoggieBoo/spam-ham\", tags = [str(feature) for feature in features])\n",
    "run.start()\n",
    "run.log({\"training accuracy\": train_accuracy, \"validation accuracy\": val_accuracy, \"words\": words})\n",
    "run.end()"
   ]
  },
  {
   "cell_type": "code",
   "execution_count": null,
   "id": "fbd72653-c0d9-4583-be49-2797243a0e0d",
   "metadata": {},
   "outputs": [],
   "source": []
  }
 ],
 "metadata": {
  "kernelspec": {
   "display_name": ".spam-env",
   "language": "python",
   "name": ".spam-env"
  },
  "language_info": {
   "codemirror_mode": {
    "name": "ipython",
    "version": 3
   },
   "file_extension": ".py",
   "mimetype": "text/x-python",
   "name": "python",
   "nbconvert_exporter": "python",
   "pygments_lexer": "ipython3",
   "version": "3.8.19"
  }
 },
 "nbformat": 4,
 "nbformat_minor": 5
}
